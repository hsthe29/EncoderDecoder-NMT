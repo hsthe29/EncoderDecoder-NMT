{
 "cells": [
  {
   "cell_type": "markdown",
   "id": "84b0cb26-5025-454e-8fd3-2dbb26141dcf",
   "metadata": {},
   "source": [
    "# **Neural Machine Translation**\n",
    "\n",
    "*@author*: **hsthe29**\n",
    "\n"
   ]
  },
  {
   "cell_type": "markdown",
   "id": "1071eaa4-0432-454b-bec2-e4dbe2dd9743",
   "metadata": {},
   "source": [
    "# Training Phase"
   ]
  },
  {
   "cell_type": "markdown",
   "id": "8bf9f4a8-352c-4d94-b5ea-1b4cf2590d40",
   "metadata": {},
   "source": [
    "## Setup"
   ]
  },
  {
   "cell_type": "code",
   "execution_count": 1,
   "id": "7ad974fb-a0c6-44be-9181-3307fcb94f8f",
   "metadata": {},
   "outputs": [],
   "source": [
    "import tensorflow as tf\n",
    "from thehs import Parser\n",
    "from thehs.model import AutoModel\n",
    "from thehs.model import AutoConfig\n",
    "from thehs.utils import save_model\n",
    "from thehs.losses import MaskedLoss\n",
    "from thehs.dataset import make_dataset\n",
    "from thehs.schedule import StairReductionSchedule\n",
    "from thehs import Tokenizer"
   ]
  },
  {
   "cell_type": "markdown",
   "id": "65c75736-9cd4-4a8e-b482-45991188d872",
   "metadata": {},
   "source": [
    "## Generate Config"
   ]
  },
  {
   "cell_type": "code",
   "execution_count": 7,
   "id": "c38e5fde-a999-4972-8b69-b76124edae12",
   "metadata": {},
   "outputs": [],
   "source": [
    "config = AutoConfig.from_file(\"config.json\")"
   ]
  },
  {
   "cell_type": "code",
   "execution_count": 8,
   "id": "78c3d962-a17b-4e79-95f5-5a26445ae8cd",
   "metadata": {},
   "outputs": [
    {
     "name": "stdout",
     "output_type": "stream",
     "text": [
      "\u001b[92mLoaded processor\u001b[00m bpe.16k \u001b[92mand found\u001b[00m 16000 \u001b[92munique tokens.\u001b[00m\n"
     ]
    }
   ],
   "source": [
    "tokenizer = Tokenizer(config.processor)"
   ]
  },
  {
   "cell_type": "markdown",
   "id": "6bdad88c-b619-4595-8268-ccc213ef2f8a",
   "metadata": {},
   "source": [
    "## Create TF Dataset for data pipeline"
   ]
  },
  {
   "cell_type": "code",
   "execution_count": null,
   "id": "588f2a53-9ddb-4370-9fd7-0123ad8e1e5b",
   "metadata": {},
   "outputs": [],
   "source": [
    "train_ds = make_dataset((\"data/dev/dev.en\", \"data/dev/dev.vi\"), tokenizer, max_length=config.max_length)\n",
    "val_ds = make_dataset((\"data/test/test.en\", \"data/test/test.vi\"), tokenizer, max_length=config.max_length)"
   ]
  },
  {
   "cell_type": "markdown",
   "id": "2ef6f820-3bdf-417b-a113-9263ac385b33",
   "metadata": {},
   "source": [
    "## Create model"
   ]
  },
  {
   "cell_type": "code",
   "execution_count": null,
   "id": "8c9f5d4f-7320-48b6-a6e3-46dd0504a3c2",
   "metadata": {},
   "outputs": [],
   "source": [
    "model = AutoModel.from_config(config)\n",
    "optimizer = tf.keras.optimizers.Adam(StairReductionSchedule(1e-3, 3000, 800, reduction_proportion=0.95))\n",
    "model.compile(optimizer=optimizer, loss=MaskedLoss())"
   ]
  },
  {
   "cell_type": "markdown",
   "id": "dff45edc-6490-41b1-8b8c-f2f53ac4c7dd",
   "metadata": {},
   "source": [
    "## Training"
   ]
  },
  {
   "cell_type": "code",
   "execution_count": null,
   "id": "13c4976c-84a5-4011-a6cc-f78280adc229",
   "metadata": {},
   "outputs": [],
   "source": [
    "model.fit(train_ds, epochs=6, validation_data=val_ds)\n",
    "save_model(model, config.name())"
   ]
  }
 ],
 "metadata": {
  "kernelspec": {
   "display_name": "Python 3 (ipykernel)",
   "language": "python",
   "name": "python3"
  },
  "language_info": {
   "codemirror_mode": {
    "name": "ipython",
    "version": 3
   },
   "file_extension": ".py",
   "mimetype": "text/x-python",
   "name": "python",
   "nbconvert_exporter": "python",
   "pygments_lexer": "ipython3",
   "version": "3.11.5"
  }
 },
 "nbformat": 4,
 "nbformat_minor": 5
}
